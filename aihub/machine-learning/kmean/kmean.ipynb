{
 "cells": [
  {
   "cell_type": "markdown",
   "id": "d9659e99-9f5e-4e40-8f9a-b119c1e6a377",
   "metadata": {
    "tags": []
   },
   "source": [
    "\n",
    "# K最近邻简介\n",
    "\n",
    "\n",
    "K最近邻属于一种估值或分类算法，他的解释很容易。\n",
    "我们假设一个人的优秀成为设定为1、2、3、4、5、6、7、8、9、10数值表示，其中10表示最优秀，1表示最不优秀。\n",
    "我们都知道近朱者赤，近墨者黑，我们想看一个人是什么样的，看他的朋友是什么样的就可以了。\n",
    "\n",
    "1、如何来考察一个人？\n",
    "我们通过特征属性来描述一个对象的特征，例如是否抽烟、是否运动、工资、年龄。\n",
    "\n",
    "2、怎样才算是跟朋友亲近？\n",
    "通过计算距离函数来表示两个对象的相似度。例如具有相同的习惯、兴趣\n",
    "\n",
    "3、不同亲近程度的朋友对考察人的影响？\n",
    "通过为不同距离设置权重，来表示不同近邻对待测对象的亲近度。例如5个亲近朋友中，最亲密的两个朋友对考察人物的影响非常大，其他三个朋友的影响几乎可以忽略。\n",
    "\n",
    "4、选多少个亲近朋友来考察比较合适呢？\n",
    "k的取值问题\n",
    "\n",
    "\t\n",
    "**K最近邻（KNN）概念：**\n",
    "\n",
    "它的工作原理是：存在一个样本数据集合，所有特征属性已知，并且样本集中每个对象都已知所属分类。对不知道分类的待测对象，将待测对象的每个特征属性与样本集中数据对应的特征属性进行比较，然后算法提取样本最相似对象(最近邻)的分类标签。一般来说，我们只选择样本数据集中前k个最相似的对象数据，这就是k-近邻算法中k的出处，通常k是不大于20的整数。最后根据这k个数据的特征和属性，判断待测数据的分类。\n",
    "\n",
    "# K最近的三个基本要素\n",
    "\n",
    "\n",
    "1、k值的选取。（在应用中，k值一般选择一个比较小的值，一般选用交叉验证来取最优的k值）\n",
    "\n",
    "2、距离度量。（$L_p$距离：误差绝对值p次方求和再求p次根。欧式距离：p=2的$L_p$距离。曼哈顿距离：p=1的$L_p$距离。p为无穷大时，$L_p$距离为各个维度上距离的最大值）\n",
    "\n",
    "3、分类决策规则。（也就是如何根据k个最近邻决定待测对象的分类。k最近邻的分类决策规则一般选用多数表决）\n",
    "\n",
    "\n",
    "**KNN基本执行步骤：**\n",
    "\n",
    "（1）计算待测对象和训练集中每个样本点的欧式距离\n",
    "（2）对上面的所有距离值排序\n",
    "（3）选出k个最小距离的样本作为“选民”\n",
    "（4）根据“选民”预测待测样本的分类或值\n",
    "\n",
    "**KNN特点**\n",
    "（1）原理简单\n",
    "（2）保存模型需要保存所有样本集\n",
    "（3）训练过程很快，预测速度很慢\n",
    "\n",
    "**优点**\n",
    "\n",
    "简单好用，容易理解，精度高，理论成熟，既可以用来做分类也可以用来做回归；\n",
    "可用于非线性分类；\n",
    "可用于数值型数据和离散型数据（既可以用来估值，又可以用来分类）\n",
    "训练时间复杂度为O(n)；无数据输入假定；\n",
    "对异常值不敏感。\n",
    "准确度高，对数据没有假设，对outlier不敏感；\n",
    "\n",
    "**缺点：**\n",
    "\n",
    "计算复杂性高；空间复杂性高；需要大量的内存\n",
    "样本不平衡问题（即有些类别的样本数量很多，而其它样本的数量很少）；\n",
    "一般数值很大的时候不用这个，计算量太大。但是单个样本又不能太少，否则容易发生误分。\n",
    "最大的缺点是无法给出数据的内在含义。\n",
    "\n",
    "**在上面的描述中思考以下问题：**\n",
    "\n",
    "> 样本属性如何选择？如何计算两个对象间距离？当样本各属性的类型和尺度不同时如何处理？各属性不同重要程度如何处理？模型的好坏如何评估？\n",
    "\n",
    "\n",
    "# 估值案例\n",
    "\n",
    "今天我们使用k最近邻算法来构建白酒的价格模型。这是一个估值模型，不是分类案例。需要预测的回归值为白酒的价格\n",
    "\n",
    "# 构造数据集\n",
    "\n",
    "\n",
    "我们先考虑一个简单的价格模型。我们知道白酒的价格跟等级、年代有很大的关系。我们需要知道一批白酒的数据作为样本数据集，其中包含每瓶白酒的等级、年代、和价格（输出值）。\n",
    "\n",
    "这批数据集你可以使用市场问卷调查，或者网络爬虫获取。为了简单我们自己模拟产生。\n",
    "\n",
    "构建一个葡萄酒样本数据集。\n"
   ]
  },
  {
   "cell_type": "code",
   "execution_count": 20,
   "id": "9927b1fc-2d87-4bd2-974c-848801251397",
   "metadata": {},
   "outputs": [],
   "source": [
    "from random import random,randint\n",
    "import math\n",
    "\n",
    "# 根据等级和年代对价格进行模拟\n",
    "def wineprice(rating,age):\n",
    "    peak_age=rating-50\n",
    "\n",
    "    # 根据等级计算价格\n",
    "    price=rating/2\n",
    "    if age>peak_age:\n",
    "        # 经过“峰值年”，后续5年里其品质将会变差\n",
    "        price=price*(5-(age-peak_age)/2)\n",
    "    else:\n",
    "        # 价格在接近“峰值年”时会增加到原值的5倍\n",
    "        price=price*(5*((age+1)/peak_age))\n",
    "    if price<0: price=0\n",
    "    return price\n",
    "\n",
    "# 生成一批数据代表样本数据集\n",
    "def wineset1():\n",
    "    rows=[]\n",
    "    for i in range(300):\n",
    "        # 随机生成年代和等级\n",
    "        rating=random()*50+50\n",
    "        age=random()*50\n",
    "\n",
    "        # 得到一个参考价格\n",
    "        price=wineprice(rating,age)\n",
    "\n",
    "        # 添加一些噪音\n",
    "        price*=(random()*0.2+0.9)\n",
    "\n",
    "        # 加入数据集\n",
    "        rows.append({'input':(rating,age),'result':price})\n",
    "    return rows\n",
    "\n",
    "data = wineset1()      #创建第一批数据集"
   ]
  },
  {
   "cell_type": "markdown",
   "id": "60bcb7e2-91c3-49f0-976c-6f740dc06a96",
   "metadata": {},
   "source": [
    "\n",
    "# 样本间的距离\n",
    "\n",
    "要使用k最近邻，首先要知道哪些是最近邻，所以我们还要有一个功能，就是要能计算两个对象之间的相似度。我们这里使用欧几里得距离作为数据间的距离，代表相似度。\n"
   ]
  },
  {
   "cell_type": "code",
   "execution_count": 7,
   "id": "553269e0-9526-4774-988f-8c36edac28b1",
   "metadata": {},
   "outputs": [],
   "source": [
    "# 使用欧几里得距离，定义距离\n",
    "def euclidean(v1,v2):\n",
    "    d=0.0\n",
    "    for i in range(len(v1)):\n",
    "        d+=(v1[i]-v2[i])**2\n",
    "    return math.sqrt(d)"
   ]
  },
  {
   "cell_type": "markdown",
   "id": "91b5ab77-75fe-48ae-959a-94f1fed564eb",
   "metadata": {},
   "source": [
    "# 获取与新数据距离最近的k个样本数据\n",
    "\n",
    "有了样本数据集，和计算两个样本间的距离。我们就可以对待测数据，计算待测数据与样本数据集中每个样本之间的距离。并对所有距离进行排序，获取距离最近的前k个样本。"
   ]
  },
  {
   "cell_type": "code",
   "execution_count": 8,
   "id": "1bf83e1c-03b0-410d-b52b-28199d37ec4d",
   "metadata": {},
   "outputs": [],
   "source": [
    "# 计算待测商品和样本数据集中任一商品间的距离。data样本数据集，vec1待测商品\n",
    "def getdistances(data,vec1):\n",
    "    distancelist=[]\n",
    "\n",
    "    # 遍历样本数据集中的每一项\n",
    "    for i in range(len(data)):\n",
    "        vec2=data[i]['input']\n",
    "\n",
    "        # 添加距离到距离列表\n",
    "        distancelist.append((euclidean(vec1,vec2),i))\n",
    "\n",
    "    # 距离排序\n",
    "    distancelist.sort()\n",
    "    return distancelist  #返回距离列表"
   ]
  },
  {
   "cell_type": "markdown",
   "id": "fc586509-d2ba-45d0-b343-5963f80a8c15",
   "metadata": {},
   "source": [
    "# 根据距离最近的k个样本数据预测新对象的输出值\n",
    "\n",
    "上面的步骤，我们已经获取了距离最近的k个样本对象。那么如何根据k个样本对象的属性和价格计算待测对象的价格呢？\n",
    "\n",
    "**1、简单求均值**"
   ]
  },
  {
   "cell_type": "code",
   "execution_count": 9,
   "id": "c6cb8152-e3d2-43cb-8099-174788575ad7",
   "metadata": {},
   "outputs": [],
   "source": [
    "# 对距离值最小的前k个结果求平均\n",
    "def knnestimate(data,vec1,k=5):\n",
    "    # 得到经过排序的距离值\n",
    "    dlist=getdistances(data,vec1)\n",
    "    avg=0.0\n",
    "\n",
    "    # 对前k项结果求平均\n",
    "    for i in range(k):\n",
    "        idx=dlist[i][1]\n",
    "        avg+=data[idx]['result']\n",
    "    avg=avg/k\n",
    "    return avg"
   ]
  },
  {
   "cell_type": "markdown",
   "id": "73fc5b6f-558a-491e-a59a-98d9817f870f",
   "metadata": {},
   "source": [
    "\n",
    "**2、求加权平均**\n",
    "\n",
    "如果使用直接求均值，有可能存在前k个最近邻中，可能会存在距离很远的数据，但是他仍然属于最近的前K个数据。\n",
    "\n",
    "比如设定了k=5，距离最近的3个样本对象距离待测对象很近，但是第4、5个样本对象已经非常远离了待测对象。\n",
    "\n",
    "当存在这种情况时，对前k个样本数据直接求均值会有偏差，所以使用加权平均，为较远的节点赋予较小的权值，对较近的节点赋予较大的权值。\n",
    "\n",
    "那么具体该怎么根据数据间距离分配权值呢？这里使用三种递减函数作为权值分配方法。\n",
    "\n",
    "三种权值分配的思想就是距离远的权值小，距离近的权值大。\n",
    "\n",
    "**2.1、使用反函数为近邻分配权重。**"
   ]
  },
  {
   "cell_type": "code",
   "execution_count": 10,
   "id": "3d8d0d03-e2bc-421c-a52d-508da909911c",
   "metadata": {},
   "outputs": [],
   "source": [
    "def inverseweight(dist,num=1.0,const=0.1):\n",
    "    return num/(dist+const)"
   ]
  },
  {
   "cell_type": "markdown",
   "id": "5acf59f9-fe71-40cf-b189-24ca4482a0df",
   "metadata": {},
   "source": [
    "![这里写图片描述](https://img-blog.csdnimg.cn/img_convert/9576904983d7a0ca86a7a00e53155922.png)"
   ]
  },
  {
   "cell_type": "markdown",
   "id": "d747d263-641a-40e9-85d7-17d500d5525d",
   "metadata": {},
   "source": [
    "**2.2、使用减法函数为近邻分配权重。当最近距离都大于const时不可用。**"
   ]
  },
  {
   "cell_type": "code",
   "execution_count": 11,
   "id": "b0fa6b4a-c228-4f14-9919-434c81c066de",
   "metadata": {},
   "outputs": [],
   "source": [
    "def subtractweight(dist,const=1.0):\n",
    "    if dist>const:\n",
    "        return 0\n",
    "    else:\n",
    "        return const-dist"
   ]
  },
  {
   "cell_type": "markdown",
   "id": "c1bfdd0d-c7e2-4326-a431-2a76c3618644",
   "metadata": {},
   "source": [
    "![这里写图片描述](https://img-blog.csdnimg.cn/img_convert/bb16f674261a55d96aee39bdf1c62610.png)\n",
    "\n",
    "**2.3、使用高斯函数为距离分配权重。**"
   ]
  },
  {
   "cell_type": "code",
   "execution_count": 12,
   "id": "993b12ab-37da-49cc-9bba-dfab70724416",
   "metadata": {},
   "outputs": [],
   "source": [
    "def gaussian(dist,sigma=5.0):\n",
    "    return math.e**(-dist**2/(2*sigma**2))"
   ]
  },
  {
   "cell_type": "markdown",
   "id": "3033301b-8691-429e-ba82-e1166570a874",
   "metadata": {},
   "source": [
    "![这里写图片描述](https://img-blog.csdnimg.cn/img_convert/c9e41ca14feac83015eaa94490e9e73e.png)\n",
    "\n",
    "有了权值分配方法，下面就可以计算加权平均了。"
   ]
  },
  {
   "cell_type": "code",
   "execution_count": 21,
   "id": "fbddd69b-5c64-4fc2-a7cb-ca3fc5b78404",
   "metadata": {},
   "outputs": [],
   "source": [
    "# 对距离值最小的前k个结果求加权平均\n",
    "def weightedknn(data,vec1,k=5,weightf=gaussian):\n",
    "    # 得到距离值\n",
    "    dlist=getdistances(data,vec1)\n",
    "    avg=0.0\n",
    "    totalweight=0.0\n",
    "\n",
    "    # 得到加权平均\n",
    "    for i in range(k):\n",
    "        dist=dlist[i][0]\n",
    "        idx=dlist[i][1]\n",
    "        weight=weightf(dist)\n",
    "        avg+=weight*data[idx]['result']\n",
    "        totalweight+=weight\n",
    "    if totalweight==0: return 0\n",
    "    avg=avg/totalweight\n",
    "    return avg"
   ]
  },
  {
   "cell_type": "markdown",
   "id": "5f0addc2-ecc3-4edc-a076-932851f8f767",
   "metadata": {},
   "source": [
    "----------\n",
    "\n",
    "以上内容，我们完成了对k最近邻的模型构造，并完成了对一个待测数据的预测。那么这个测试结果究竟好不好呢？又如何评估我们的建立的模型的好坏呢？下面我们来了解一下交叉验证。\n"
   ]
  },
  {
   "cell_type": "markdown",
   "id": "0b7e5168-e36e-4fde-936f-e3295e3761fb",
   "metadata": {},
   "source": [
    "\n",
    "\n",
    "# 交叉验证\n",
    "\n",
    "\n",
    "交叉验证是一种将样本集划分为训练集和待测集，使用样本集进行模型建立，然后使用模型对待测集进行预测，并查看预测结果与真实结果之间的误差，进而对模型进行评估的方法。每划分一次样本集就相当于建立了一个模型。待测集中每一个对象都可以进行一次测试。\n",
    "\n",
    "> 思考：交叉验证中如何将样本集划分训练集和待测集、测试多少次、有了预测结果如何计算模型好坏、能不能把预测结果返回到新的模型训练中？这些问题读者可以在今后学习中思考\n",
    "\n",
    "交叉验证用来验证你的算法或算法参数的好坏，比如上面的加权分配算法我们有三种方式，究竟哪个更好呢？我们可以使用交叉验证进行查看。\n",
    "\n",
    "随机选择样本数据集中95%作为训练集，5%作为待测集，对待测集中数据进行预测并与已知结果进行比较，计算准确率，查看算法效果。\n",
    "\n",
    "> 读者需要注意，交叉验证中并不是一定使用准确率来判断模型好坏，只不过准确率是用的最多的评估标准。\n",
    "\n",
    "下面使用代码实现交叉验证。\n",
    "\n",
    "首先实现将样本数据集划分为训练集和待测集两个子集的功能。"
   ]
  },
  {
   "cell_type": "code",
   "execution_count": 22,
   "id": "54253a21-b8e4-498f-9a65-5cc865ed324a",
   "metadata": {},
   "outputs": [],
   "source": [
    "# 划分数据。test待测集占的比例。其他数据为训练集\n",
    "def dividedata(data,test=0.05):\n",
    "    trainset=[]\n",
    "    testset=[]\n",
    "    for row in data:\n",
    "        if random()<test:\n",
    "            testset.append(row)\n",
    "        else:\n",
    "            trainset.append(row)\n",
    "    return trainset,testset"
   ]
  },
  {
   "cell_type": "markdown",
   "id": "af8bbe19-b7ec-4f80-84b1-927054df2ca4",
   "metadata": {},
   "source": [
    "然后再来计算预测结果与真实结果之间的准确率。以此来表示系统模型的好坏。"
   ]
  },
  {
   "cell_type": "code",
   "execution_count": 23,
   "id": "6ea91dbd-48aa-4be4-9a9a-4ff56ea2f72b",
   "metadata": {},
   "outputs": [],
   "source": [
    "# 对使用算法进行预测的结果的误差进行统计，以此判断算法好坏。algf为算法函数，trainset为训练数据集，testset为待测数据集\n",
    "def testalgorithm(algf,trainset,testset):\n",
    "    error=0.0\n",
    "    for row in testset:\n",
    "        guess=algf(trainset,row['input'])   #这一步要和样本数据的格式保持一致，列表内个元素为一个字典，每个字典包含input和result两个属性。而且函数参数是列表和元组\n",
    "        error+=(row['result']-guess)**2\n",
    "        #print row['result'],guess\n",
    "    #print error/len(testset)\n",
    "    return error/len(testset)"
   ]
  },
  {
   "cell_type": "markdown",
   "id": "3f2cbcf6-d63a-4e48-a344-5483246ae98e",
   "metadata": {},
   "source": [
    "有了数据拆分和算法性能误差统计函数。我们就可以在原始数据集上进行多次这样的拆分统计实验，计算平均误差。"
   ]
  },
  {
   "cell_type": "code",
   "execution_count": 24,
   "id": "52ce9b8c-abe1-4ff9-968b-f9f3f4b3fe97",
   "metadata": {},
   "outputs": [],
   "source": [
    "# 将数据拆分和误差统计合并在一起。对数据集进行多次划分，并验证算法好坏\n",
    "def crossvalidate(algf,data,trials=100,test=0.1):\n",
    "    error=0.0\n",
    "    for i in range(trials):\n",
    "        trainset,testset=dividedata(data,test)\n",
    "        error+=testalgorithm(algf,trainset,testset)\n",
    "    return error/trials"
   ]
  },
  {
   "cell_type": "markdown",
   "id": "e738f91f-319c-4436-a3f9-8a06d91d9fcd",
   "metadata": {},
   "source": [
    "上面我们完成了交叉验证的全部功能，下面我们来尝试一下应用这个功能。\n",
    "\n",
    "交叉验证测试"
   ]
  },
  {
   "cell_type": "code",
   "execution_count": 26,
   "id": "3be697f4-2566-46d9-84fd-3367bb8b37fc",
   "metadata": {},
   "outputs": [
    {
     "name": "stdout",
     "output_type": "stream",
     "text": [
      "平均误差：286.47110528978357\n",
      "平均误差：250.03608805220637\n",
      "平均误差：220.68960367069892\n"
     ]
    }
   ],
   "source": [
    "data = wineset1()      #创建第一批数据集\n",
    "# print(data)\n",
    "error = crossvalidate(knnestimate,data)   #对直接求均值算法进行评估\n",
    "print('平均误差：'+str(error))\n",
    "\n",
    "def knn3(d,v): return knnestimate(d,v,k=3)  #定义一个函数指针。参数为d列表，v元组\n",
    "error = crossvalidate(knn3, data)            #对直接求均值算法进行评估\n",
    "print('平均误差：' + str(error))\n",
    "\n",
    "def knninverse(d,v): return weightedknn(d,v,weightf=inverseweight)  #定义一个函数指针。参数为d列表，v元组\n",
    "error = crossvalidate(knninverse, data)            #对使用反函数做权值分配方法进行评估\n",
    "print('平均误差：' + str(error))"
   ]
  },
  {
   "cell_type": "markdown",
   "id": "815a5682-5f1e-40dc-828a-0d75901da814",
   "metadata": {},
   "source": [
    "\n",
    "----------\n",
    "\n",
    "\n",
    "上面我们已经完成了knn模型的建模和使用。以及使用交叉验证完成对模型中算法的选择和模型的评估。\n",
    "\n",
    "\n",
    "----------"
   ]
  },
  {
   "cell_type": "markdown",
   "id": "4abc45e0-e515-41da-99e7-0a29465b8888",
   "metadata": {},
   "source": [
    "下面我们来看一些复杂的情况。"
   ]
  },
  {
   "cell_type": "markdown",
   "id": "df9aaee5-7ba9-452f-a94b-efb11847243e",
   "metadata": {},
   "source": [
    "\n",
    "# 不同类型、尺度的属性，无用属性\n",
    "\n",
    "\n",
    "实际生活中，白酒的价格不仅与年代和等级有关系，还与酒瓶容量等其他属性有很大的关系。\n",
    "所以我们这里来讨论一下当样本数据集中可能存在复杂属性的情况。\n",
    "\n",
    "1、属性类型不同，属性尺度不同的情况\n",
    "\n",
    "在样本数据集中的对象各个属性可能并不是取值范围相同、类型相同的数值，比如上面的酒的属性可能包含档次（0-100），酒的年限（0-50），酒的容量（三种容量375.0ml、750.0ml、1500.0ml），\n",
    "\n",
    "2、存在无效属性的情况\n",
    "\n",
    "在我们获取的样本数据中还有可能包含无用的属性，比如酒箱的号码（1-2000之间的整数）。在计算样本距离时，取值范围大的属性的变化会严重影响取值范围小的属性的变化，以至于结果会忽略取值范围小的属性。而且无用属性的变化也会增加数据之间的距离。比如两瓶非常相似的酒，两瓶酒之间的距离本应为接近0，但是由于两瓶酒的酒箱号码分别为1和100，则在计算两瓶酒之间的距离时就会接近100。而这属于一个很大的距离。\n",
    "\n",
    "\n",
    "针对上面的情况，要求我们能对样本数据的属性进行缩放到合适的范围，并要能删除无效属性。\n",
    "\n",
    "我们先来模拟构造一批数据集，这批数据集本应是网络爬虫获取或市场统计获取。为了简单我们使用代码模拟获取这么一批数据。它包含了酒的档次、年限、容量、酒箱的号码以及酒的价格。\n",
    "\n",
    "**构造新的数据集**"
   ]
  },
  {
   "cell_type": "code",
   "execution_count": 27,
   "id": "b34e90bb-1464-4fc9-89ed-23bb75af00ea",
   "metadata": {},
   "outputs": [],
   "source": [
    "# 构建新数据集，模拟不同类型、尺度的属性\n",
    "def wineset2():\n",
    "    rows=[]\n",
    "    for i in range(300):\n",
    "        rating=random()*50+50   #酒的档次\n",
    "        age=random()*50         #酒的年限\n",
    "        aisle=float(randint(1,2000))  #酒箱的号码（无关属性）\n",
    "        bottlesize=[375.0,750.0,1500.0][randint(0,2)]  #酒的容量\n",
    "        price=wineprice(rating,age)  #酒的价格\n",
    "        price*=(bottlesize/750)\n",
    "        price*=(random()*0.2+0.9)\n",
    "        rows.append({'input':(rating,age,aisle,bottlesize),'result':price})\n",
    "    return rows"
   ]
  },
  {
   "cell_type": "markdown",
   "id": "fc8542a0-fc0c-4907-94b5-15c593a8458a",
   "metadata": {},
   "source": [
    "**实现按比例对属性的取值进行缩放的功能**"
   ]
  },
  {
   "cell_type": "code",
   "execution_count": 28,
   "id": "ac8e9f31-2429-4176-a619-c4c9bda402b3",
   "metadata": {},
   "outputs": [],
   "source": [
    "# 按比例对属性进行缩放，scale为各属性的值的缩放比例。\n",
    "def rescale(data,scale):\n",
    "    scaleddata=[]\n",
    "    for row in data:\n",
    "        scaled=[scale[i]*row['input'][i] for i in range(len(scale))]\n",
    "        scaleddata.append({'input':scaled,'result':row['result']})\n",
    "    return scaleddata"
   ]
  },
  {
   "cell_type": "markdown",
   "id": "353295ea-4cca-4290-9024-6775a33d318f",
   "metadata": {},
   "source": [
    "\n",
    "那就还剩一个问题，究竟各个属性缩放多少才合适呢。这是一个优化问题，我们可以通过优化技术寻找最优化解。\n",
    "\n",
    "优化，就是寻找函数极值点的问题。寻找在一定自变量范围内使函数值最小或最大的自变量的取值。函数一般设定为成本函数，自变量为函数的参数，也就是算法的参数。参数和函数值可以是离散或连续值。\n",
    "\n",
    "\n",
    "比如属性比例缩放，每个属性的缩放比例就是自变量，成本函数就是预测结果的错误率，寻找方法就是简单的暴力尝试每一个自变量的值，寻找使成本函数最小的自变量。\n",
    "\n",
    "而需要优化的成本函数，就是通过缩放以后进行预测的结果与真实结果之间的误差值。误差值越小越好。误差值的计算同前面交叉验证时使用的相同crossvalidate函数\n",
    "\n"
   ]
  },
  {
   "cell_type": "markdown",
   "id": "820da590-dc8e-4e06-99e2-37ab6095a2b6",
   "metadata": {},
   "source": [
    "下面构建成本函数"
   ]
  },
  {
   "cell_type": "code",
   "execution_count": 29,
   "id": "9f31fd67-dc5c-4df6-85b3-57490b0b197c",
   "metadata": {},
   "outputs": [],
   "source": [
    "# 生成成本函数。\n",
    "def createcostfunction(algf,data):\n",
    "    def costf(scale):\n",
    "        sdata=rescale(data,scale)\n",
    "        return crossvalidate(algf,sdata,trials=10)\n",
    "    return costf\n",
    "\n",
    "weightdomain=[(0,10)]*4     #将缩放比例这个题解的取值范围设置为0-10，可以自己设定，用于优化算法"
   ]
  },
  {
   "cell_type": "markdown",
   "id": "8f220872-b9a5-4213-8a91-25667f12ae17",
   "metadata": {},
   "source": [
    "我们通过优化技术查找到了所有属性合适的缩放比例，我们也就可以对样本数据集的属性进行缩放后建立k最近邻模型。当有待测数据到来时，我们也对待测对象的属性进行缩放后，与模型中的对象（比例缩放后的样本对象）进行距离计算，获取k最近邻。\n",
    "\n",
    "测试代码"
   ]
  },
  {
   "cell_type": "code",
   "execution_count": 36,
   "id": "63481bd6-1a45-4ecf-aadc-e668d5b73ea4",
   "metadata": {},
   "outputs": [
    {
     "name": "stdout",
     "output_type": "stream",
     "text": [
      "Looking in indexes: https://mirrors.tencent.com/pypi/simple/, https://mirrors.tencent.com/repository/pypi/tencent_pypi/simple\n",
      "Requirement already satisfied: optimization in /usr/local/lib/python3.8/dist-packages (0.0.1)\n",
      "Requirement already satisfied: pandas in /usr/local/lib/python3.8/dist-packages (from optimization) (1.3.5)\n",
      "Collecting argparse\n",
      "  Using cached https://mirrors.tencent.com/pypi/packages/f2/94/3af39d34be01a24a6e65433d19e107099374224905f1e0cc6bbe1fd22a2f/argparse-1.4.0-py2.py3-none-any.whl (23 kB)\n",
      "Requirement already satisfied: tqdm in /usr/local/lib/python3.8/dist-packages (from optimization) (4.64.1)\n",
      "Requirement already satisfied: matplotlib in /usr/local/lib/python3.8/dist-packages (from optimization) (3.5.3)\n",
      "Requirement already satisfied: kiwisolver>=1.0.1 in /usr/local/lib/python3.8/dist-packages (from matplotlib->optimization) (1.4.4)\n",
      "Requirement already satisfied: fonttools>=4.22.0 in /usr/local/lib/python3.8/dist-packages (from matplotlib->optimization) (4.37.1)\n",
      "Requirement already satisfied: cycler>=0.10 in /usr/local/lib/python3.8/dist-packages (from matplotlib->optimization) (0.11.0)\n",
      "Requirement already satisfied: pillow>=6.2.0 in /usr/local/lib/python3.8/dist-packages (from matplotlib->optimization) (9.2.0)\n",
      "Requirement already satisfied: packaging>=20.0 in /usr/local/lib/python3.8/dist-packages (from matplotlib->optimization) (21.3)\n",
      "Requirement already satisfied: numpy>=1.17 in /usr/local/lib/python3.8/dist-packages (from matplotlib->optimization) (1.22.1)\n",
      "Requirement already satisfied: pyparsing>=2.2.1 in /usr/local/lib/python3.8/dist-packages (from matplotlib->optimization) (3.0.6)\n",
      "Requirement already satisfied: python-dateutil>=2.7 in /usr/local/lib/python3.8/dist-packages (from matplotlib->optimization) (2.8.2)\n",
      "Requirement already satisfied: pytz>=2017.3 in /usr/local/lib/python3.8/dist-packages (from pandas->optimization) (2021.3)\n",
      "Requirement already satisfied: six>=1.5 in /usr/local/lib/python3.8/dist-packages (from python-dateutil>=2.7->matplotlib->optimization) (1.16.0)\n",
      "Installing collected packages: argparse\n",
      "Successfully installed argparse-1.4.0\n",
      "\u001b[33mWARNING: Running pip as the 'root' user can result in broken permissions and conflicting behaviour with the system package manager. It is recommended to use a virtual environment instead: https://pip.pypa.io/warnings/venv\u001b[0m\n",
      "\u001b[33mWARNING: You are using pip version 21.3.1; however, version 22.2.2 is available.\n",
      "You should consider upgrading via the '/usr/bin/python -m pip install --upgrade pip' command.\u001b[0m\n"
     ]
    }
   ],
   "source": [
    "! pip install optimization"
   ]
  },
  {
   "cell_type": "code",
   "execution_count": 44,
   "id": "e1cfe1ea-c382-40fd-a31d-76e54732e57a",
   "metadata": {},
   "outputs": [
    {
     "ename": "ModuleNotFoundError",
     "evalue": "No module named 'optimization'",
     "output_type": "error",
     "traceback": [
      "\u001b[0;31m---------------------------------------------------------------------------\u001b[0m",
      "\u001b[0;31mModuleNotFoundError\u001b[0m                       Traceback (most recent call last)",
      "Input \u001b[0;32mIn [44]\u001b[0m, in \u001b[0;36m<module>\u001b[0;34m\u001b[0m\n\u001b[1;32m      2\u001b[0m data \u001b[38;5;241m=\u001b[39m wineset2()  \u001b[38;5;66;03m# 创建第2批数据集\u001b[39;00m\n\u001b[1;32m      3\u001b[0m \u001b[38;5;66;03m# print(data)\u001b[39;00m\n\u001b[0;32m----> 4\u001b[0m \u001b[38;5;28;01mimport\u001b[39;00m \u001b[38;5;21;01moptimization\u001b[39;00m\n\u001b[1;32m      5\u001b[0m costf\u001b[38;5;241m=\u001b[39mcreatecostfunction(knnestimate,data)      \u001b[38;5;66;03m#创建成本函数\u001b[39;00m\n\u001b[1;32m      6\u001b[0m result \u001b[38;5;241m=\u001b[39m optimization\u001b[38;5;241m.\u001b[39mannealingoptimize(weightdomain,costf,step\u001b[38;5;241m=\u001b[39m\u001b[38;5;241m2\u001b[39m)    \u001b[38;5;66;03m#使用退火算法寻找最优解\u001b[39;00m\n",
      "\u001b[0;31mModuleNotFoundError\u001b[0m: No module named 'optimization'"
     ]
    }
   ],
   "source": [
    "# ======================缩放比例优化======================\n",
    "data = wineset2()  # 创建第2批数据集\n",
    "# print(data)\n",
    "import optimization\n",
    "costf=createcostfunction(knnestimate,data)      #创建成本函数\n",
    "result = optimization.annealingoptimize(weightdomain,costf,step=2)    #使用退火算法寻找最优解\n",
    "print(result)"
   ]
  },
  {
   "cell_type": "markdown",
   "id": "89d4a944-5bd6-4c02-99c6-38d04cd24abb",
   "metadata": {},
   "source": [
    "\n",
    "上面我们又解决了一种带有不同类型、尺度的属性，无用属性等复杂属性的情况，这是数据来源的问题，下面我们将面临最后一个问题，是输出结果的问题。\n"
   ]
  },
  {
   "cell_type": "markdown",
   "id": "01ff899c-7a79-4791-b6ea-9a7e9e566bba",
   "metadata": {},
   "source": [
    "\n",
    "预测结果的不对称分布\n",
    "-----\n",
    "\n",
    "我们上面建立的酒的价格模型。这是正规市场中的酒。但是如何这酒是逃税酒，那么逃税酒的价格仍然和酒的等级、年份、容量有相似的关系，不过比正规酒要便宜40%。而我们买一瓶酒时并不知道这是正规酒就还是逃税酒。因此当我们预测价格时我们更情愿说如果这酒是正规酒，则价格大约是m1元，如果是逃税酒，这价格是m2元。\n",
    "\n",
    "当然还有另外一种结果输出的形式，就是n1%的概率是m1元，n2%的概率是m2元，这种概率输出方式。\n",
    "\n",
    "在数据挖掘中，对于样本数据集包含多种分布情况时，待测对象的预测结果我们也希望不唯一的表示。我们可以使用概率结果进行表示，输出每种结果的值和出现的概率。\n",
    "\n",
    "我们模拟一批数据，样本数据中价格存在正规酒和逃税酒这两种形式的分布。\n",
    "\n",
    "**构造数据集**\n"
   ]
  },
  {
   "cell_type": "code",
   "execution_count": 38,
   "id": "067b858c-f2ae-4c78-b3da-837580c716a2",
   "metadata": {},
   "outputs": [],
   "source": [
    "def wineset3():\n",
    "    rows=wineset1()\n",
    "    for row in rows:\n",
    "        if random()<0.5:\n",
    "            # 一半的可能是逃税酒\n",
    "            row['result']*=0.6\n",
    "    return rows"
   ]
  },
  {
   "cell_type": "markdown",
   "id": "d702090c-53e0-4e86-b25d-ffbb6f952b27",
   "metadata": {},
   "source": [
    "如果以结果概率的形式存在，首先我们要能够计算概率值"
   ]
  },
  {
   "cell_type": "code",
   "execution_count": 39,
   "id": "9be52ef9-8d0d-49b3-9141-45cfe0285ee5",
   "metadata": {},
   "outputs": [],
   "source": [
    "# 计算概率。data样本数据集，vec1预测数据，low，high结果范围，weightf为根据距离进行权值分配的函数\n",
    "def probguess(data,vec1,low,high,k=5,weightf=gaussian):\n",
    "    dlist=getdistances(data,vec1)  #获取距离列表\n",
    "    nweight=0.0\n",
    "    tweight=0.0\n",
    "\n",
    "    for i in range(k):\n",
    "        dist=dlist[i][0]   #距离\n",
    "        idx=dlist[i][1]   #酒箱的号码\n",
    "        weight=weightf(dist)  #权值\n",
    "        v=data[idx]['result']  #真实结果\n",
    "\n",
    "        # 当前数据点位于指定范围内么？\n",
    "        if v>=low and v<=high:\n",
    "            nweight+=weight    #指定范围的权值之和\n",
    "        tweight+=weight        #总的权值之和\n",
    "    if tweight==0: return 0\n",
    "\n",
    "    # 概率等于位于指定范围内的权重值除以所有权重值\n",
    "    return nweight/tweight"
   ]
  },
  {
   "cell_type": "markdown",
   "id": "80a56763-9480-4345-a936-b76e44cab14d",
   "metadata": {},
   "source": [
    "对于多种输出、以概率和值的形式表示的结果，我们可以使用累积概率分布图或概率密度图的形式表现。\n",
    "\n",
    "**绘制累积概率分布图**"
   ]
  },
  {
   "cell_type": "code",
   "execution_count": 40,
   "id": "f9f9863d-003f-411b-b40d-91d1963d72b3",
   "metadata": {},
   "outputs": [],
   "source": [
    "from pylab import *\n",
    "\n",
    "# 绘制累积概率分布图。data样本数据集，vec1预测数据，high取值最高点，k近邻范围，weightf权值分配\n",
    "def cumulativegraph(data,vec1,high,k=5,weightf=gaussian):\n",
    "    t1=arange(0.0,high,0.1)\n",
    "    cprob=array([probguess(data,vec1,0,v,k,weightf) for v in t1])   #预测产生的不同结果的概率\n",
    "    plot(t1,cprob)\n",
    "    show()"
   ]
  },
  {
   "cell_type": "markdown",
   "id": "9bd620a8-6c68-4a2f-8a17-64048c0430ef",
   "metadata": {},
   "source": [
    "**绘制概率密度图**"
   ]
  },
  {
   "cell_type": "code",
   "execution_count": 41,
   "id": "39c5e3d4-e901-400f-8dd6-8cb02b7c9cb0",
   "metadata": {},
   "outputs": [],
   "source": [
    "# 绘制概率密度图\n",
    "def probabilitygraph(data,vec1,high,k=5,weightf=gaussian,ss=5.0):\n",
    "    # 建立一个代表价格的值域范围\n",
    "    t1=arange(0.0,high,0.1)\n",
    "\n",
    "    # 得到整个值域范围内的所有概率\n",
    "    probs=[probguess(data,vec1,v,v+0.1,k,weightf) for v in t1]\n",
    "\n",
    "    # 通过加上近邻概率的高斯计算结果，对概率值做平滑处理\n",
    "    smoothed=[]\n",
    "    for i in range(len(probs)):\n",
    "        sv=0.0\n",
    "        for j in range(0,len(probs)):\n",
    "            dist=abs(i-j)*0.1\n",
    "            weight=gaussian(dist,sigma=ss)\n",
    "            sv+=weight*probs[j]\n",
    "        smoothed.append(sv)\n",
    "    smoothed=array(smoothed)\n",
    "\n",
    "    plot(t1,smoothed)\n",
    "    show()"
   ]
  },
  {
   "cell_type": "code",
   "execution_count": 43,
   "id": "f4f7dc0d-6eb4-43f2-b40d-d21e017908da",
   "metadata": {},
   "outputs": [
    {
     "data": {
      "image/png": "[encoded data removed]",
      "text/plain": [
       "<Figure size 432x288 with 1 Axes>"
      ]
     },
     "metadata": {
      "needs_background": "light"
     },
     "output_type": "display_data"
    },
    {
     "data": {
      "image/png": "[encoded data removed]",
      "text/plain": [
       "<Figure size 432x288 with 1 Axes>"
      ]
     },
     "metadata": {
      "needs_background": "light"
     },
     "output_type": "display_data"
    }
   ],
   "source": [
    "data = wineset3()  # 创建第3批数据集\n",
    "# print(data)\n",
    "cumulativegraph(data,(1,1),120)   #绘制累积概率密度\n",
    "probabilitygraph(data,(1,1),6)    #绘制概率密度图"
   ]
  },
  {
   "cell_type": "markdown",
   "id": "42839a7e-71a5-47f6-a8db-23537b888b04",
   "metadata": {},
   "source": [
    "# k近邻算法中k的选取以及特征归一化的重要性\n",
    "\n",
    "\n",
    "如果我们选取较小的k值，那么就会意味着我们的整体模型会变得复杂，容易发生过拟合。因为k太小会导致过拟合，很容易将一些噪声（如上图离五边形很近的黑色圆点）学习到模型中，而忽略了数据真实的分布！\n",
    "\n",
    "如果k值太大就会造成模型过于简单，完全忽略训练数据实例中的大量有用信息，是不可取的。\n",
    "\n",
    "那么我们一般怎么选取呢？李航博士书上讲到，我们一般选取一个较小的数值，通常采取 交叉验证法来选取最优的k值。（也就是说，选取k值很重要的关键是实验调参，类似于神经网络选取多少层这种，通过调整超参数来得到一个较好的结果）\n"
   ]
  },
  {
   "cell_type": "code",
   "execution_count": null,
   "id": "54a55476-a758-4751-ab61-fefefb207523",
   "metadata": {},
   "outputs": [],
   "source": []
  }
 ],
 "metadata": {
  "kernelspec": {
   "display_name": "Python 3 (ipykernel)",
   "language": "python",
   "name": "python3"
  },
  "language_info": {
   "codemirror_mode": {
    "name": "ipython",
    "version": 3
   },
   "file_extension": ".py",
   "mimetype": "text/x-python",
   "name": "python",
   "nbconvert_exporter": "python",
   "pygments_lexer": "ipython3",
   "version": "3.8.13"
  },
  "pycharm": {
   "stem_cell": {
    "cell_type": "raw",
    "metadata": {
     "collapsed": false
    },
    "source": []
   }
  },
  "vscode": {
   "interpreter": {
    "hash": "aee8b7b246df8f9039afb4144a1f6fd8d2ca17a180786b69acc140d282b71a49"
   }
  }
 },
 "nbformat": 4,
 "nbformat_minor": 5
}
